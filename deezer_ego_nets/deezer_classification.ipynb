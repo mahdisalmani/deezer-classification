{
  "nbformat": 4,
  "nbformat_minor": 0,
  "metadata": {
    "colab": {
      "name": "Copy of deezer_classification.ipynb",
      "provenance": [],
      "collapsed_sections": []
    },
    "kernelspec": {
      "name": "python3",
      "display_name": "Python 3"
    },
    "language_info": {
      "name": "python"
    }
  },
  "cells": [
    {
      "cell_type": "code",
      "metadata": {
        "colab": {
          "base_uri": "https://localhost:8080/"
        },
        "id": "WPJ9QK-nC9cx",
        "outputId": "cad831bf-a30c-4751-ff07-6eef58c0d2c1"
      },
      "source": [
        "pip install pyvis"
      ],
      "execution_count": null,
      "outputs": [
        {
          "output_type": "stream",
          "name": "stdout",
          "text": [
            "Collecting pyvis\n",
            "  Downloading pyvis-0.1.9-py3-none-any.whl (23 kB)\n",
            "Requirement already satisfied: jinja2>=2.9.6 in /usr/local/lib/python3.7/dist-packages (from pyvis) (2.11.3)\n",
            "Requirement already satisfied: ipython>=5.3.0 in /usr/local/lib/python3.7/dist-packages (from pyvis) (5.5.0)\n",
            "Requirement already satisfied: networkx>=1.11 in /usr/local/lib/python3.7/dist-packages (from pyvis) (2.6.2)\n",
            "Collecting jsonpickle>=1.4.1\n",
            "  Downloading jsonpickle-2.0.0-py2.py3-none-any.whl (37 kB)\n",
            "Requirement already satisfied: pexpect in /usr/local/lib/python3.7/dist-packages (from ipython>=5.3.0->pyvis) (4.8.0)\n",
            "Requirement already satisfied: simplegeneric>0.8 in /usr/local/lib/python3.7/dist-packages (from ipython>=5.3.0->pyvis) (0.8.1)\n",
            "Requirement already satisfied: decorator in /usr/local/lib/python3.7/dist-packages (from ipython>=5.3.0->pyvis) (4.4.2)\n",
            "Requirement already satisfied: pickleshare in /usr/local/lib/python3.7/dist-packages (from ipython>=5.3.0->pyvis) (0.7.5)\n",
            "Requirement already satisfied: pygments in /usr/local/lib/python3.7/dist-packages (from ipython>=5.3.0->pyvis) (2.6.1)\n",
            "Requirement already satisfied: setuptools>=18.5 in /usr/local/lib/python3.7/dist-packages (from ipython>=5.3.0->pyvis) (57.4.0)\n",
            "Requirement already satisfied: traitlets>=4.2 in /usr/local/lib/python3.7/dist-packages (from ipython>=5.3.0->pyvis) (5.0.5)\n",
            "Requirement already satisfied: prompt-toolkit<2.0.0,>=1.0.4 in /usr/local/lib/python3.7/dist-packages (from ipython>=5.3.0->pyvis) (1.0.18)\n",
            "Requirement already satisfied: MarkupSafe>=0.23 in /usr/local/lib/python3.7/dist-packages (from jinja2>=2.9.6->pyvis) (2.0.1)\n",
            "Requirement already satisfied: importlib-metadata in /usr/local/lib/python3.7/dist-packages (from jsonpickle>=1.4.1->pyvis) (4.6.4)\n",
            "Requirement already satisfied: wcwidth in /usr/local/lib/python3.7/dist-packages (from prompt-toolkit<2.0.0,>=1.0.4->ipython>=5.3.0->pyvis) (0.2.5)\n",
            "Requirement already satisfied: six>=1.9.0 in /usr/local/lib/python3.7/dist-packages (from prompt-toolkit<2.0.0,>=1.0.4->ipython>=5.3.0->pyvis) (1.15.0)\n",
            "Requirement already satisfied: ipython-genutils in /usr/local/lib/python3.7/dist-packages (from traitlets>=4.2->ipython>=5.3.0->pyvis) (0.2.0)\n",
            "Requirement already satisfied: typing-extensions>=3.6.4 in /usr/local/lib/python3.7/dist-packages (from importlib-metadata->jsonpickle>=1.4.1->pyvis) (3.7.4.3)\n",
            "Requirement already satisfied: zipp>=0.5 in /usr/local/lib/python3.7/dist-packages (from importlib-metadata->jsonpickle>=1.4.1->pyvis) (3.5.0)\n",
            "Requirement already satisfied: ptyprocess>=0.5 in /usr/local/lib/python3.7/dist-packages (from pexpect->ipython>=5.3.0->pyvis) (0.7.0)\n",
            "Installing collected packages: jsonpickle, pyvis\n",
            "Successfully installed jsonpickle-2.0.0 pyvis-0.1.9\n"
          ]
        }
      ]
    },
    {
      "cell_type": "code",
      "metadata": {
        "id": "K_8hEmffVVI7"
      },
      "source": [
        "import numpy as np\n",
        "import matplotlib.pyplot as plt\n",
        "import json\n",
        "import pandas as pd"
      ],
      "execution_count": null,
      "outputs": []
    },
    {
      "cell_type": "code",
      "metadata": {
        "id": "OfrJeZAvCv4_"
      },
      "source": [
        "from pyvis.network import Network\n",
        "net = Network('1000px', '1000px')"
      ],
      "execution_count": null,
      "outputs": []
    },
    {
      "cell_type": "code",
      "metadata": {
        "id": "mIIFP0fvVocq"
      },
      "source": [
        "plt.rcParams['figure.figsize'] = [7, 7]"
      ],
      "execution_count": null,
      "outputs": []
    },
    {
      "cell_type": "code",
      "metadata": {
        "colab": {
          "base_uri": "https://localhost:8080/"
        },
        "id": "QBF9a4PkXqMq",
        "outputId": "51af14a0-b69f-4dfb-c831-b3160485a31b"
      },
      "source": [
        "f = open('deezer_edges.json')\n",
        "graphs = json.load(f)\n",
        "len(graphs)"
      ],
      "execution_count": null,
      "outputs": [
        {
          "output_type": "execute_result",
          "data": {
            "text/plain": [
              "9629"
            ]
          },
          "metadata": {},
          "execution_count": 6
        }
      ]
    },
    {
      "cell_type": "code",
      "metadata": {
        "colab": {
          "base_uri": "https://localhost:8080/"
        },
        "id": "VlFo2gEaY-He",
        "outputId": "40f71425-ea66-4be0-89c5-b6cb1b231f8a"
      },
      "source": [
        "labels = np.genfromtxt('deezer_target.csv', delimiter=',')[1:]\n",
        "labels.shape"
      ],
      "execution_count": null,
      "outputs": [
        {
          "output_type": "execute_result",
          "data": {
            "text/plain": [
              "(9629, 2)"
            ]
          },
          "metadata": {},
          "execution_count": 7
        }
      ]
    },
    {
      "cell_type": "code",
      "metadata": {
        "colab": {
          "base_uri": "https://localhost:8080/"
        },
        "id": "xye0SYiw_dGN",
        "outputId": "a8b0a3b3-a7a4-491f-9932-da661046a548"
      },
      "source": [
        "labels[3]"
      ],
      "execution_count": null,
      "outputs": [
        {
          "output_type": "execute_result",
          "data": {
            "text/plain": [
              "array([3., 0.])"
            ]
          },
          "metadata": {},
          "execution_count": 75
        }
      ]
    },
    {
      "cell_type": "code",
      "metadata": {
        "colab": {
          "base_uri": "https://localhost:8080/"
        },
        "id": "VfuvJ6aiZsQv",
        "outputId": "50b4d5f6-a589-4adb-ad18-76761447c307"
      },
      "source": [
        "def count_vertex(edges):\n",
        "  ans = 0\n",
        "  for edge in edges:\n",
        "    if ans < np.max(edges):\n",
        "      ans = np.max(edges)\n",
        "  return ans + 1\n",
        "print(count_vertex(graphs['1']))"
      ],
      "execution_count": null,
      "outputs": [
        {
          "output_type": "stream",
          "name": "stdout",
          "text": [
            "18\n"
          ]
        }
      ]
    },
    {
      "cell_type": "code",
      "metadata": {
        "colab": {
          "base_uri": "https://localhost:8080/"
        },
        "id": "BONisSLEdGfR",
        "outputId": "3d28dbd7-3968-4016-f990-b00939ef7e12"
      },
      "source": [
        "def create_adjacent_list(edges, size):\n",
        "  adj = [[] for i in range(size)]\n",
        "  for edge in edges:\n",
        "    adj[edge[0]].append(edge[1])\n",
        "    adj[edge[1]].append(edge[0])\n",
        "  return adj\n",
        "create_adjacent_list(graphs['1'], count_vertex(graphs['1']))"
      ],
      "execution_count": null,
      "outputs": [
        {
          "output_type": "execute_result",
          "data": {
            "text/plain": [
              "[[6],\n",
              " [8, 16, 6, 10, 13, 15],\n",
              " [6],\n",
              " [6, 12, 14],\n",
              " [6],\n",
              " [6, 16, 15, 13],\n",
              " [0, 1, 2, 3, 4, 5, 14, 7, 8, 9, 10, 12, 13, 11, 15, 16, 17],\n",
              " [6],\n",
              " [1, 6, 10, 15, 17, 13],\n",
              " [6],\n",
              " [1, 6, 8, 16, 13, 15, 17],\n",
              " [6],\n",
              " [3, 6, 14],\n",
              " [1, 5, 6, 8, 10, 15, 16],\n",
              " [3, 6, 12],\n",
              " [1, 5, 6, 8, 10, 13, 16],\n",
              " [1, 5, 6, 10, 13, 15],\n",
              " [6, 8, 10]]"
            ]
          },
          "metadata": {},
          "execution_count": 9
        }
      ]
    },
    {
      "cell_type": "code",
      "metadata": {
        "id": "koTULBk-uKHW"
      },
      "source": [
        "\"\"\"\n",
        "very simple implementation for comb function (only m = 2, 3, 4 used)\n",
        "\"\"\"\n",
        "def comb(n, m):\n",
        "  def fact(n):\n",
        "    if n == 0:\n",
        "      return 1\n",
        "    ans = 1\n",
        "    for i in range(1, n + 1):\n",
        "      ans *= i\n",
        "    return ans\n",
        "  \n",
        "  if m == 0:\n",
        "    return 1\n",
        "  if n < m:\n",
        "    return 0\n",
        "  return int(fact(n) / (fact(n - m) * fact(m)))"
      ],
      "execution_count": null,
      "outputs": []
    },
    {
      "cell_type": "code",
      "metadata": {
        "id": "Hkm0VCoyodry"
      },
      "source": [
        "def count_cliques(X, tri, adjacent):\n",
        "  ans = 0\n",
        "  for v in tri:\n",
        "    for u in adjacent[v]:\n",
        "      if X[u] == 2:\n",
        "        ans += 1\n",
        "    X[v] = 0\n",
        "  return ans\n",
        "def count_cycles(X, star0, adjacent):\n",
        "  ans = 0\n",
        "  for v in star0:\n",
        "    for u in adjacent[v]:\n",
        "      if X[u] == 3:\n",
        "        ans += 1\n",
        "    X[v] = 0\n",
        "  return ans"
      ],
      "execution_count": null,
      "outputs": []
    },
    {
      "cell_type": "code",
      "metadata": {
        "colab": {
          "base_uri": "https://localhost:8080/"
        },
        "id": "Q4XZSD6jfO36",
        "outputId": "bea2261b-2e0f-474b-d4d6-19841607890d"
      },
      "source": [
        "def count_graphlet(edges, adjacent, size):\n",
        "  T, S, N, cliques, cycles = 0, 0, 0, 0, 0\n",
        "  T_T, S0_S1, T_S0orS1, S_S = 0, 0, 0, 0\n",
        "  T_I, S0orS1_I, I_I, I_I_1 = 0, 0, 0, 0\n",
        "  for edge in edges:\n",
        "    X = np.zeros(size)\n",
        "    tri, star0, star1= [], [], []\n",
        "    for v in adjacent[edge[0]]:\n",
        "      if (v == edge[1]):\n",
        "        continue\n",
        "      X[v] = 1\n",
        "      star0.append(v)\n",
        "    for v in adjacent[edge[1]]:\n",
        "      if (v == edge[0]):\n",
        "        continue\n",
        "      if X[v] == 1:\n",
        "        X[v] = 2\n",
        "        star0.remove(v)\n",
        "        tri.append(v)\n",
        "      else:\n",
        "        X[v] = 3\n",
        "        star1.append(v)\n",
        "    cliques += count_cliques(X.copy(), tri, adjacent)\n",
        "    cycles += count_cycles(X.copy(), star0, adjacent)\n",
        "\n",
        "    tri_l, star0_l, star1_l = len(tri), len(star0), len(star1)\n",
        "\n",
        "    T_T += comb(tri_l, 2)\n",
        "    S0_S1 += star0_l * star1_l\n",
        "    T_S0orS1 += tri_l * (star0_l + star1_l)\n",
        "    S_S += comb(star0_l, 2) + comb(star1_l, 2)\n",
        "    T_I += tri_l * (size - tri_l - star0_l - star1_l - 2)\n",
        "    S0orS1_I += (star0_l + star1_l) * (size - tri_l - star0_l - star1_l - 2)\n",
        "    I_I += comb(size - tri_l - star0_l - star1_l - 2, 2)\n",
        "    I_I_1 += len(edges) - ((star0_l + tri_l) + (star1_l + tri_l) + 1)\n",
        "    T += tri_l\n",
        "    S += star0_l + star1_l\n",
        "    N += size - tri_l - star0_l - star1_l - 2\n",
        "  return  T_T, S0_S1, T_S0orS1, S_S, T_I, S0orS1_I, I_I, I_I_1, T, S, N, cliques, cycles\n",
        "\n",
        "     \n",
        "graph = [[0, 1], [1, 2], [2, 3], [0, 3]]\n",
        "T_T, S0_S1, T_S0orS1, S_S, T_I, S0orS1_I, I_I, I_I_1, T, S, N, cliques, cycles = count_graphlet(graph, create_adjacent_list(graph, 4), 4)\n",
        "T_T, S0_S1, T_S0orS1, S_S, T_I, S0orS1_I, I_I, I_I_1, T, S, N, cliques, cycles"
      ],
      "execution_count": null,
      "outputs": [
        {
          "output_type": "execute_result",
          "data": {
            "text/plain": [
              "(0, 4, 0, 0, 0, 0, 0, 4, 0, 8, 0, 0, 4)"
            ]
          },
          "metadata": {},
          "execution_count": 76
        }
      ]
    },
    {
      "cell_type": "code",
      "metadata": {
        "colab": {
          "base_uri": "https://localhost:8080/"
        },
        "id": "hNUlPWqLse14",
        "outputId": "1743771a-32e6-4dee-bf70-512a5d3c51cb"
      },
      "source": [
        "def extract_features(cliques, cycles, T_T, S0_S1, T_S0orS1, S_S,\n",
        "T_I, S0orS1_I, I_I, I_I_1, T, S, N, label, size):\n",
        "  G3_1 = T / 3\n",
        "  G3_2 = S / 2\n",
        "  G3_3 = N\n",
        "  G3_4 = comb(size, 3) - G3_1 - G3_2 - G3_3\n",
        "\n",
        "  G4_1 = cliques / 6\n",
        "  G4_2 = T_T - cliques\n",
        "  G4_3 = (T_S0orS1 - 4 * G4_2)/ 2\n",
        "  G4_4 = cycles / 4\n",
        "  G4_5 = (S_S - G4_3) / 3\n",
        "  G4_6 = S0_S1 - (4 * G4_4)\n",
        "  G4_7 = (T_I - G4_3) / 3\n",
        "  G4_8 = (S0orS1_I - (2 * G4_6)) / 2\n",
        "  G4_9 = (I_I_1 - (6 * G4_1 + 4 * G4_2 + 2 * G4_3 + 4 * G4_4 + 2 * G4_6)) / 2\n",
        "  G4_10 = I_I - (2 * G4_9)\n",
        "  G4_11 = comb(size, 4) - (G4_1 + G4_2 + G4_3 + G4_4 +\n",
        "                                  G4_5 + G4_6 + G4_7 + G4_8 +\n",
        "                                  G4_9 + G4_10)\n",
        "  ans = [G3_1, G3_2, G3_3, G3_4, G4_1, G4_2, G4_3, G4_4,\n",
        "         G4_5, G4_6, G4_7, G4_8, G4_9, G4_10, G4_11, label]\n",
        "  return np.array(ans)\n",
        "extract_features(cliques, cycles, T_T, S0_S1, T_S0orS1, S_S,\n",
        "                   T_I, S0orS1_I, I_I, I_I_1, T, S, N, 1, 4)"
      ],
      "execution_count": null,
      "outputs": [
        {
          "output_type": "execute_result",
          "data": {
            "text/plain": [
              "array([0., 4., 0., 0., 0., 0., 0., 1., 0., 0., 0., 0., 0., 0., 0., 1.])"
            ]
          },
          "metadata": {},
          "execution_count": 80
        }
      ]
    },
    {
      "cell_type": "code",
      "metadata": {
        "id": "wjwNeJ8qDTOn"
      },
      "source": [
        "n = 7\n",
        "graph = [[0, 1], [0, 2], [0, 3], [0, 6], [1, 2], [1, 4], [1, 5], [2, 6], [3, 4], [3, 5], [4, 6], [5, 6]]\n",
        "for i in range(n):\n",
        "  net.add_node(i, label=f'Node{i}', size=25)\n",
        "for edge in graph:\n",
        "  net.add_edge(edge[0], edge[1])\n",
        "net.show('example.html')"
      ],
      "execution_count": null,
      "outputs": []
    },
    {
      "cell_type": "code",
      "metadata": {
        "id": "g9imRYSgH7Pi"
      },
      "source": [
        "def find_features(graph, label, n):\n",
        "  adjacent_list = create_adjacent_list(graph, n)\n",
        "  T_T, S0_S1, T_S0orS1, S_S, T_I, S0orS1_I, I_I, I_I_1, T, S, N, cliques, cycles = count_graphlet(graph, adjacent_list, n)\n",
        "  ans = extract_features(cliques, cycles, T_T, S0_S1, T_S0orS1, S_S,\n",
        "                   T_I, S0orS1_I, I_I, I_I_1, T, S, N, label, n)\n",
        "  return ans"
      ],
      "execution_count": null,
      "outputs": []
    },
    {
      "cell_type": "code",
      "metadata": {
        "colab": {
          "base_uri": "https://localhost:8080/"
        },
        "id": "Fz-wh8fzIt6H",
        "outputId": "910438a1-754c-4c0d-e816-458e045e2e5f"
      },
      "source": [
        "find_features(graph, 1, n)"
      ],
      "execution_count": null,
      "outputs": [
        {
          "output_type": "execute_result",
          "data": {
            "text/plain": [
              "array([ 2., 24.,  6.,  3.,  0.,  1.,  6., 11.,  8.,  6.,  0.,  2.,  0.,\n",
              "        1.,  0.,  1.])"
            ]
          },
          "metadata": {},
          "execution_count": 92
        }
      ]
    },
    {
      "cell_type": "code",
      "metadata": {
        "colab": {
          "base_uri": "https://localhost:8080/"
        },
        "id": "qlwHbeSnSLJv",
        "outputId": "d3080fa9-5545-4cbe-df92-4faa30b32de2"
      },
      "source": [
        "def make_random_graph(edge_size, size):\n",
        "  all_possible = [(i, j) for i in range(size) for j in range(i + 1, size)]\n",
        "  indexes =  np.random.choice([i for i in range(comb(size, 2))], size=edge_size, replace=False)\n",
        "  return (np.array(all_possible))[indexes]\n",
        "make_random_graph(10, 5)"
      ],
      "execution_count": null,
      "outputs": [
        {
          "output_type": "execute_result",
          "data": {
            "text/plain": [
              "array([[0, 2],\n",
              "       [2, 4],\n",
              "       [2, 3],\n",
              "       [1, 4],\n",
              "       [0, 1],\n",
              "       [1, 2],\n",
              "       [0, 3],\n",
              "       [3, 4],\n",
              "       [0, 4],\n",
              "       [1, 3]])"
            ]
          },
          "metadata": {},
          "execution_count": 103
        }
      ]
    },
    {
      "cell_type": "code",
      "metadata": {
        "id": "RtRBOpJYWVJq"
      },
      "source": [
        "def calculate_SRP(edge_size, main_features, size, number_of_random_graphs, epsilon=4):\n",
        "  label = main_features[-1]\n",
        "  features = np.zeros(shape=(15,))\n",
        "  for i in range(number_of_random_graphs):\n",
        "    graph = make_random_graph(edge_size, size)\n",
        "    features += find_features(graph, 0, n)[:-1]\n",
        "  features = features / number_of_random_graphs\n",
        "  delta = (main_features[:-1] - features) / (main_features[:-1] + features + epsilon)\n",
        "  SRP = delta / np.linalg.norm(delta)\n",
        "  return np.concatenate([SRP, [label]])\n"
      ],
      "execution_count": null,
      "outputs": []
    },
    {
      "cell_type": "code",
      "metadata": {
        "id": "773740fvLrBW"
      },
      "source": [
        "data = np.zeros(shape=(16,))\n",
        "NUMBER_OF_RANDOM_GRAPHS = 10\n",
        "for index in graphs:\n",
        "  graph = graphs[index]\n",
        "  n = count_vertex(graph)\n",
        "  features = find_features(graph, labels[int(index)][1], n)\n",
        "  features = calculate_SRP(len(graph), features, n, NUMBER_OF_RANDOM_GRAPHS, epsilon=4)\n",
        "  data = np.vstack((data, features))\n",
        "  "
      ],
      "execution_count": null,
      "outputs": []
    },
    {
      "cell_type": "code",
      "metadata": {
        "id": "c1Q4wFtw5i8T"
      },
      "source": [
        "data = data[1:]"
      ],
      "execution_count": null,
      "outputs": []
    },
    {
      "cell_type": "code",
      "metadata": {
        "colab": {
          "base_uri": "https://localhost:8080/"
        },
        "id": "rQw-HOlK-dT3",
        "outputId": "5e292b60-b4ee-4be8-df5e-cddcec161f1c"
      },
      "source": [
        "data[1]"
      ],
      "execution_count": null,
      "outputs": [
        {
          "output_type": "execute_result",
          "data": {
            "text/plain": [
              "array([ 0.24353296,  0.03087628, -0.10103096,  0.04922456,  0.41271341,\n",
              "        0.20726632,  0.24442925, -0.39103598,  0.32120253, -0.43432568,\n",
              "        0.19640484, -0.29550759, -0.25329654, -0.02358811,  0.13688159,\n",
              "        1.        ])"
            ]
          },
          "metadata": {},
          "execution_count": 213
        }
      ]
    },
    {
      "cell_type": "code",
      "metadata": {
        "id": "QK1zkSN86KaZ"
      },
      "source": [
        "columns = ['G3_1', 'G3_2', 'G3_3', 'G3_4', 'G4_1', 'G4_2', 'G4_3', 'G4_4', 'G4_5',\n",
        "           'G4_6', 'G4_7', 'G4_8', 'G4_9', 'G4_10', 'G4_11', 'Label']\n",
        "df = pd.DataFrame(data, columns=columns)"
      ],
      "execution_count": null,
      "outputs": []
    },
    {
      "cell_type": "code",
      "metadata": {
        "colab": {
          "base_uri": "https://localhost:8080/",
          "height": 224
        },
        "id": "kHnChP96-2Qx",
        "outputId": "27a7555c-4e39-4f49-b790-1af28fbcd96b"
      },
      "source": [
        "df.head() "
      ],
      "execution_count": null,
      "outputs": [
        {
          "output_type": "execute_result",
          "data": {
            "text/html": [
              "<div>\n",
              "<style scoped>\n",
              "    .dataframe tbody tr th:only-of-type {\n",
              "        vertical-align: middle;\n",
              "    }\n",
              "\n",
              "    .dataframe tbody tr th {\n",
              "        vertical-align: top;\n",
              "    }\n",
              "\n",
              "    .dataframe thead th {\n",
              "        text-align: right;\n",
              "    }\n",
              "</style>\n",
              "<table border=\"1\" class=\"dataframe\">\n",
              "  <thead>\n",
              "    <tr style=\"text-align: right;\">\n",
              "      <th></th>\n",
              "      <th>G3_1</th>\n",
              "      <th>G3_2</th>\n",
              "      <th>G3_3</th>\n",
              "      <th>G3_4</th>\n",
              "      <th>G4_1</th>\n",
              "      <th>G4_2</th>\n",
              "      <th>G4_3</th>\n",
              "      <th>G4_4</th>\n",
              "      <th>G4_5</th>\n",
              "      <th>G4_6</th>\n",
              "      <th>G4_7</th>\n",
              "      <th>G4_8</th>\n",
              "      <th>G4_9</th>\n",
              "      <th>G4_10</th>\n",
              "      <th>G4_11</th>\n",
              "      <th>Label</th>\n",
              "    </tr>\n",
              "  </thead>\n",
              "  <tbody>\n",
              "    <tr>\n",
              "      <th>0</th>\n",
              "      <td>0.359460</td>\n",
              "      <td>0.227639</td>\n",
              "      <td>-0.058806</td>\n",
              "      <td>0.003365</td>\n",
              "      <td>0.400293</td>\n",
              "      <td>0.398230</td>\n",
              "      <td>0.387503</td>\n",
              "      <td>0.211338</td>\n",
              "      <td>0.387343</td>\n",
              "      <td>0.009117</td>\n",
              "      <td>0.333568</td>\n",
              "      <td>0.039954</td>\n",
              "      <td>-0.183240</td>\n",
              "      <td>-0.072063</td>\n",
              "      <td>0.010188</td>\n",
              "      <td>0.0</td>\n",
              "    </tr>\n",
              "    <tr>\n",
              "      <th>1</th>\n",
              "      <td>0.243533</td>\n",
              "      <td>0.030876</td>\n",
              "      <td>-0.101031</td>\n",
              "      <td>0.049225</td>\n",
              "      <td>0.412713</td>\n",
              "      <td>0.207266</td>\n",
              "      <td>0.244429</td>\n",
              "      <td>-0.391036</td>\n",
              "      <td>0.321203</td>\n",
              "      <td>-0.434326</td>\n",
              "      <td>0.196405</td>\n",
              "      <td>-0.295508</td>\n",
              "      <td>-0.253297</td>\n",
              "      <td>-0.023588</td>\n",
              "      <td>0.136882</td>\n",
              "      <td>1.0</td>\n",
              "    </tr>\n",
              "    <tr>\n",
              "      <th>2</th>\n",
              "      <td>0.274950</td>\n",
              "      <td>0.050286</td>\n",
              "      <td>-0.102843</td>\n",
              "      <td>0.039747</td>\n",
              "      <td>0.468500</td>\n",
              "      <td>0.364639</td>\n",
              "      <td>0.249897</td>\n",
              "      <td>-0.335416</td>\n",
              "      <td>0.301619</td>\n",
              "      <td>-0.318409</td>\n",
              "      <td>0.167981</td>\n",
              "      <td>-0.125492</td>\n",
              "      <td>-0.355005</td>\n",
              "      <td>-0.079102</td>\n",
              "      <td>0.117049</td>\n",
              "      <td>0.0</td>\n",
              "    </tr>\n",
              "    <tr>\n",
              "      <th>3</th>\n",
              "      <td>0.167169</td>\n",
              "      <td>-0.091235</td>\n",
              "      <td>-0.062852</td>\n",
              "      <td>0.137834</td>\n",
              "      <td>0.409308</td>\n",
              "      <td>0.112831</td>\n",
              "      <td>-0.028614</td>\n",
              "      <td>-0.412638</td>\n",
              "      <td>0.101802</td>\n",
              "      <td>-0.453190</td>\n",
              "      <td>0.185869</td>\n",
              "      <td>-0.053293</td>\n",
              "      <td>-0.438431</td>\n",
              "      <td>0.121464</td>\n",
              "      <td>0.359613</td>\n",
              "      <td>0.0</td>\n",
              "    </tr>\n",
              "    <tr>\n",
              "      <th>4</th>\n",
              "      <td>0.047744</td>\n",
              "      <td>0.216933</td>\n",
              "      <td>-0.286313</td>\n",
              "      <td>0.045998</td>\n",
              "      <td>-0.010480</td>\n",
              "      <td>0.128350</td>\n",
              "      <td>0.251009</td>\n",
              "      <td>-0.128154</td>\n",
              "      <td>0.396545</td>\n",
              "      <td>-0.389061</td>\n",
              "      <td>-0.342887</td>\n",
              "      <td>-0.317630</td>\n",
              "      <td>-0.398780</td>\n",
              "      <td>-0.262929</td>\n",
              "      <td>0.123790</td>\n",
              "      <td>1.0</td>\n",
              "    </tr>\n",
              "  </tbody>\n",
              "</table>\n",
              "</div>"
            ],
            "text/plain": [
              "       G3_1      G3_2      G3_3      G3_4  ...      G4_9     G4_10     G4_11  Label\n",
              "0  0.359460  0.227639 -0.058806  0.003365  ... -0.183240 -0.072063  0.010188    0.0\n",
              "1  0.243533  0.030876 -0.101031  0.049225  ... -0.253297 -0.023588  0.136882    1.0\n",
              "2  0.274950  0.050286 -0.102843  0.039747  ... -0.355005 -0.079102  0.117049    0.0\n",
              "3  0.167169 -0.091235 -0.062852  0.137834  ... -0.438431  0.121464  0.359613    0.0\n",
              "4  0.047744  0.216933 -0.286313  0.045998  ... -0.398780 -0.262929  0.123790    1.0\n",
              "\n",
              "[5 rows x 16 columns]"
            ]
          },
          "metadata": {},
          "execution_count": 215
        }
      ]
    },
    {
      "cell_type": "code",
      "metadata": {
        "id": "__b5kIt9dm--"
      },
      "source": [
        "df.to_csv('deezer_ego_dataset.csv', sep=',')"
      ],
      "execution_count": null,
      "outputs": []
    },
    {
      "cell_type": "code",
      "metadata": {
        "colab": {
          "base_uri": "https://localhost:8080/",
          "height": 204
        },
        "id": "XiMiDJQzevaz",
        "outputId": "3365fc8a-4786-4a78-a384-170b0d3940cb"
      },
      "source": [
        "from sklearn.ensemble import RandomForestClassifier, BaggingClassifier\n",
        "from sklearn.tree import DecisionTreeClassifier\n",
        "from sklearn.naive_bayes import GaussianNB\n",
        "from sklearn.model_selection import train_test_split\n",
        "from sklearn.metrics import accuracy_score\n",
        "from sklearn.neighbors import KNeighborsClassifier\n",
        "from sklearn.svm import SVC\n",
        "y = df['Label']\n",
        "X_not_normalized = df.drop(columns=['Label'], axis=1)\n",
        "# X_train, X_test, y_train, y_test = train_test_split(X, y, test_size=0.20)\n",
        "# y.head()\n",
        "X_not_normalized.head()"
      ],
      "execution_count": null,
      "outputs": [
        {
          "output_type": "execute_result",
          "data": {
            "text/html": [
              "<div>\n",
              "<style scoped>\n",
              "    .dataframe tbody tr th:only-of-type {\n",
              "        vertical-align: middle;\n",
              "    }\n",
              "\n",
              "    .dataframe tbody tr th {\n",
              "        vertical-align: top;\n",
              "    }\n",
              "\n",
              "    .dataframe thead th {\n",
              "        text-align: right;\n",
              "    }\n",
              "</style>\n",
              "<table border=\"1\" class=\"dataframe\">\n",
              "  <thead>\n",
              "    <tr style=\"text-align: right;\">\n",
              "      <th></th>\n",
              "      <th>G3_1</th>\n",
              "      <th>G3_2</th>\n",
              "      <th>G3_3</th>\n",
              "      <th>G3_4</th>\n",
              "      <th>G4_1</th>\n",
              "      <th>G4_2</th>\n",
              "      <th>G4_3</th>\n",
              "      <th>G4_4</th>\n",
              "      <th>G4_5</th>\n",
              "      <th>G4_6</th>\n",
              "      <th>G4_7</th>\n",
              "      <th>G4_8</th>\n",
              "      <th>G4_9</th>\n",
              "      <th>G4_10</th>\n",
              "      <th>G4_11</th>\n",
              "    </tr>\n",
              "  </thead>\n",
              "  <tbody>\n",
              "    <tr>\n",
              "      <th>0</th>\n",
              "      <td>0.359460</td>\n",
              "      <td>0.227639</td>\n",
              "      <td>-0.058806</td>\n",
              "      <td>0.003365</td>\n",
              "      <td>0.400293</td>\n",
              "      <td>0.398230</td>\n",
              "      <td>0.387503</td>\n",
              "      <td>0.211338</td>\n",
              "      <td>0.387343</td>\n",
              "      <td>0.009117</td>\n",
              "      <td>0.333568</td>\n",
              "      <td>0.039954</td>\n",
              "      <td>-0.183240</td>\n",
              "      <td>-0.072063</td>\n",
              "      <td>0.010188</td>\n",
              "    </tr>\n",
              "    <tr>\n",
              "      <th>1</th>\n",
              "      <td>0.243533</td>\n",
              "      <td>0.030876</td>\n",
              "      <td>-0.101031</td>\n",
              "      <td>0.049225</td>\n",
              "      <td>0.412713</td>\n",
              "      <td>0.207266</td>\n",
              "      <td>0.244429</td>\n",
              "      <td>-0.391036</td>\n",
              "      <td>0.321203</td>\n",
              "      <td>-0.434326</td>\n",
              "      <td>0.196405</td>\n",
              "      <td>-0.295508</td>\n",
              "      <td>-0.253297</td>\n",
              "      <td>-0.023588</td>\n",
              "      <td>0.136882</td>\n",
              "    </tr>\n",
              "    <tr>\n",
              "      <th>2</th>\n",
              "      <td>0.274950</td>\n",
              "      <td>0.050286</td>\n",
              "      <td>-0.102843</td>\n",
              "      <td>0.039747</td>\n",
              "      <td>0.468500</td>\n",
              "      <td>0.364639</td>\n",
              "      <td>0.249897</td>\n",
              "      <td>-0.335416</td>\n",
              "      <td>0.301619</td>\n",
              "      <td>-0.318409</td>\n",
              "      <td>0.167981</td>\n",
              "      <td>-0.125492</td>\n",
              "      <td>-0.355005</td>\n",
              "      <td>-0.079102</td>\n",
              "      <td>0.117049</td>\n",
              "    </tr>\n",
              "    <tr>\n",
              "      <th>3</th>\n",
              "      <td>0.167169</td>\n",
              "      <td>-0.091235</td>\n",
              "      <td>-0.062852</td>\n",
              "      <td>0.137834</td>\n",
              "      <td>0.409308</td>\n",
              "      <td>0.112831</td>\n",
              "      <td>-0.028614</td>\n",
              "      <td>-0.412638</td>\n",
              "      <td>0.101802</td>\n",
              "      <td>-0.453190</td>\n",
              "      <td>0.185869</td>\n",
              "      <td>-0.053293</td>\n",
              "      <td>-0.438431</td>\n",
              "      <td>0.121464</td>\n",
              "      <td>0.359613</td>\n",
              "    </tr>\n",
              "    <tr>\n",
              "      <th>4</th>\n",
              "      <td>0.047744</td>\n",
              "      <td>0.216933</td>\n",
              "      <td>-0.286313</td>\n",
              "      <td>0.045998</td>\n",
              "      <td>-0.010480</td>\n",
              "      <td>0.128350</td>\n",
              "      <td>0.251009</td>\n",
              "      <td>-0.128154</td>\n",
              "      <td>0.396545</td>\n",
              "      <td>-0.389061</td>\n",
              "      <td>-0.342887</td>\n",
              "      <td>-0.317630</td>\n",
              "      <td>-0.398780</td>\n",
              "      <td>-0.262929</td>\n",
              "      <td>0.123790</td>\n",
              "    </tr>\n",
              "  </tbody>\n",
              "</table>\n",
              "</div>"
            ],
            "text/plain": [
              "       G3_1      G3_2      G3_3  ...      G4_9     G4_10     G4_11\n",
              "0  0.359460  0.227639 -0.058806  ... -0.183240 -0.072063  0.010188\n",
              "1  0.243533  0.030876 -0.101031  ... -0.253297 -0.023588  0.136882\n",
              "2  0.274950  0.050286 -0.102843  ... -0.355005 -0.079102  0.117049\n",
              "3  0.167169 -0.091235 -0.062852  ... -0.438431  0.121464  0.359613\n",
              "4  0.047744  0.216933 -0.286313  ... -0.398780 -0.262929  0.123790\n",
              "\n",
              "[5 rows x 15 columns]"
            ]
          },
          "metadata": {},
          "execution_count": 217
        }
      ]
    },
    {
      "cell_type": "code",
      "metadata": {
        "colab": {
          "base_uri": "https://localhost:8080/",
          "height": 419
        },
        "id": "eY0vdsuaoRVU",
        "outputId": "f9667041-25d0-4604-bd44-ea723d826562"
      },
      "source": [
        "X = (X_not_normalized - X_not_normalized.min()) / (X_not_normalized.max()-  X_not_normalized.min())\n",
        "X"
      ],
      "execution_count": null,
      "outputs": [
        {
          "output_type": "execute_result",
          "data": {
            "text/html": [
              "<div>\n",
              "<style scoped>\n",
              "    .dataframe tbody tr th:only-of-type {\n",
              "        vertical-align: middle;\n",
              "    }\n",
              "\n",
              "    .dataframe tbody tr th {\n",
              "        vertical-align: top;\n",
              "    }\n",
              "\n",
              "    .dataframe thead th {\n",
              "        text-align: right;\n",
              "    }\n",
              "</style>\n",
              "<table border=\"1\" class=\"dataframe\">\n",
              "  <thead>\n",
              "    <tr style=\"text-align: right;\">\n",
              "      <th></th>\n",
              "      <th>G3_1</th>\n",
              "      <th>G3_2</th>\n",
              "      <th>G3_3</th>\n",
              "      <th>G3_4</th>\n",
              "      <th>G4_1</th>\n",
              "      <th>G4_2</th>\n",
              "      <th>G4_3</th>\n",
              "      <th>G4_4</th>\n",
              "      <th>G4_5</th>\n",
              "      <th>G4_6</th>\n",
              "      <th>G4_7</th>\n",
              "      <th>G4_8</th>\n",
              "      <th>G4_9</th>\n",
              "      <th>G4_10</th>\n",
              "      <th>G4_11</th>\n",
              "    </tr>\n",
              "  </thead>\n",
              "  <tbody>\n",
              "    <tr>\n",
              "      <th>0</th>\n",
              "      <td>0.992988</td>\n",
              "      <td>0.809675</td>\n",
              "      <td>0.566846</td>\n",
              "      <td>0.272717</td>\n",
              "      <td>0.718287</td>\n",
              "      <td>0.898832</td>\n",
              "      <td>0.964193</td>\n",
              "      <td>0.887897</td>\n",
              "      <td>0.819602</td>\n",
              "      <td>0.803743</td>\n",
              "      <td>0.888929</td>\n",
              "      <td>0.559995</td>\n",
              "      <td>0.334124</td>\n",
              "      <td>0.314340</td>\n",
              "      <td>0.402668</td>\n",
              "    </tr>\n",
              "    <tr>\n",
              "      <th>1</th>\n",
              "      <td>0.747890</td>\n",
              "      <td>0.424074</td>\n",
              "      <td>0.498402</td>\n",
              "      <td>0.376553</td>\n",
              "      <td>0.731614</td>\n",
              "      <td>0.674005</td>\n",
              "      <td>0.798341</td>\n",
              "      <td>0.342496</td>\n",
              "      <td>0.760529</td>\n",
              "      <td>0.245866</td>\n",
              "      <td>0.770512</td>\n",
              "      <td>0.235947</td>\n",
              "      <td>0.278607</td>\n",
              "      <td>0.357765</td>\n",
              "      <td>0.527047</td>\n",
              "    </tr>\n",
              "    <tr>\n",
              "      <th>2</th>\n",
              "      <td>0.814314</td>\n",
              "      <td>0.462112</td>\n",
              "      <td>0.495465</td>\n",
              "      <td>0.355093</td>\n",
              "      <td>0.791471</td>\n",
              "      <td>0.859284</td>\n",
              "      <td>0.804680</td>\n",
              "      <td>0.392856</td>\n",
              "      <td>0.743039</td>\n",
              "      <td>0.391695</td>\n",
              "      <td>0.745973</td>\n",
              "      <td>0.400178</td>\n",
              "      <td>0.198007</td>\n",
              "      <td>0.308035</td>\n",
              "      <td>0.507576</td>\n",
              "    </tr>\n",
              "    <tr>\n",
              "      <th>3</th>\n",
              "      <td>0.586438</td>\n",
              "      <td>0.184770</td>\n",
              "      <td>0.560288</td>\n",
              "      <td>0.577184</td>\n",
              "      <td>0.727960</td>\n",
              "      <td>0.562824</td>\n",
              "      <td>0.481829</td>\n",
              "      <td>0.322937</td>\n",
              "      <td>0.564573</td>\n",
              "      <td>0.222133</td>\n",
              "      <td>0.761416</td>\n",
              "      <td>0.469921</td>\n",
              "      <td>0.131895</td>\n",
              "      <td>0.487704</td>\n",
              "      <td>0.745709</td>\n",
              "    </tr>\n",
              "    <tr>\n",
              "      <th>4</th>\n",
              "      <td>0.333944</td>\n",
              "      <td>0.788693</td>\n",
              "      <td>0.198071</td>\n",
              "      <td>0.369247</td>\n",
              "      <td>0.277543</td>\n",
              "      <td>0.581095</td>\n",
              "      <td>0.805968</td>\n",
              "      <td>0.580514</td>\n",
              "      <td>0.827821</td>\n",
              "      <td>0.302812</td>\n",
              "      <td>0.304925</td>\n",
              "      <td>0.214577</td>\n",
              "      <td>0.163317</td>\n",
              "      <td>0.143361</td>\n",
              "      <td>0.514194</td>\n",
              "    </tr>\n",
              "    <tr>\n",
              "      <th>...</th>\n",
              "      <td>...</td>\n",
              "      <td>...</td>\n",
              "      <td>...</td>\n",
              "      <td>...</td>\n",
              "      <td>...</td>\n",
              "      <td>...</td>\n",
              "      <td>...</td>\n",
              "      <td>...</td>\n",
              "      <td>...</td>\n",
              "      <td>...</td>\n",
              "      <td>...</td>\n",
              "      <td>...</td>\n",
              "      <td>...</td>\n",
              "      <td>...</td>\n",
              "      <td>...</td>\n",
              "    </tr>\n",
              "    <tr>\n",
              "      <th>9624</th>\n",
              "      <td>0.612558</td>\n",
              "      <td>0.837337</td>\n",
              "      <td>0.307010</td>\n",
              "      <td>0.326123</td>\n",
              "      <td>0.433659</td>\n",
              "      <td>0.635916</td>\n",
              "      <td>0.919724</td>\n",
              "      <td>0.497883</td>\n",
              "      <td>0.840489</td>\n",
              "      <td>0.262022</td>\n",
              "      <td>0.528400</td>\n",
              "      <td>0.178333</td>\n",
              "      <td>0.203133</td>\n",
              "      <td>0.210126</td>\n",
              "      <td>0.463543</td>\n",
              "    </tr>\n",
              "    <tr>\n",
              "      <th>9625</th>\n",
              "      <td>0.759214</td>\n",
              "      <td>0.618920</td>\n",
              "      <td>0.427998</td>\n",
              "      <td>0.342666</td>\n",
              "      <td>0.607105</td>\n",
              "      <td>0.696800</td>\n",
              "      <td>0.902086</td>\n",
              "      <td>0.414952</td>\n",
              "      <td>0.802531</td>\n",
              "      <td>0.254842</td>\n",
              "      <td>0.735225</td>\n",
              "      <td>0.184331</td>\n",
              "      <td>0.267512</td>\n",
              "      <td>0.300622</td>\n",
              "      <td>0.482137</td>\n",
              "    </tr>\n",
              "    <tr>\n",
              "      <th>9626</th>\n",
              "      <td>0.437287</td>\n",
              "      <td>0.634157</td>\n",
              "      <td>0.357558</td>\n",
              "      <td>0.407965</td>\n",
              "      <td>0.288788</td>\n",
              "      <td>0.440326</td>\n",
              "      <td>0.841654</td>\n",
              "      <td>0.545438</td>\n",
              "      <td>0.840709</td>\n",
              "      <td>0.205974</td>\n",
              "      <td>0.264688</td>\n",
              "      <td>0.097622</td>\n",
              "      <td>0.277307</td>\n",
              "      <td>0.324236</td>\n",
              "      <td>0.550945</td>\n",
              "    </tr>\n",
              "    <tr>\n",
              "      <th>9627</th>\n",
              "      <td>0.285616</td>\n",
              "      <td>0.737963</td>\n",
              "      <td>0.205763</td>\n",
              "      <td>0.419357</td>\n",
              "      <td>0.288788</td>\n",
              "      <td>0.368133</td>\n",
              "      <td>0.792486</td>\n",
              "      <td>0.632788</td>\n",
              "      <td>0.837366</td>\n",
              "      <td>0.304133</td>\n",
              "      <td>0.329959</td>\n",
              "      <td>0.089058</td>\n",
              "      <td>0.196404</td>\n",
              "      <td>0.202413</td>\n",
              "      <td>0.569439</td>\n",
              "    </tr>\n",
              "    <tr>\n",
              "      <th>9628</th>\n",
              "      <td>0.750011</td>\n",
              "      <td>0.678097</td>\n",
              "      <td>0.401320</td>\n",
              "      <td>0.351368</td>\n",
              "      <td>0.586286</td>\n",
              "      <td>0.848910</td>\n",
              "      <td>0.940739</td>\n",
              "      <td>0.576323</td>\n",
              "      <td>0.848650</td>\n",
              "      <td>0.303395</td>\n",
              "      <td>0.561249</td>\n",
              "      <td>0.283642</td>\n",
              "      <td>0.208084</td>\n",
              "      <td>0.276318</td>\n",
              "      <td>0.494784</td>\n",
              "    </tr>\n",
              "  </tbody>\n",
              "</table>\n",
              "<p>9629 rows × 15 columns</p>\n",
              "</div>"
            ],
            "text/plain": [
              "          G3_1      G3_2      G3_3  ...      G4_9     G4_10     G4_11\n",
              "0     0.992988  0.809675  0.566846  ...  0.334124  0.314340  0.402668\n",
              "1     0.747890  0.424074  0.498402  ...  0.278607  0.357765  0.527047\n",
              "2     0.814314  0.462112  0.495465  ...  0.198007  0.308035  0.507576\n",
              "3     0.586438  0.184770  0.560288  ...  0.131895  0.487704  0.745709\n",
              "4     0.333944  0.788693  0.198071  ...  0.163317  0.143361  0.514194\n",
              "...        ...       ...       ...  ...       ...       ...       ...\n",
              "9624  0.612558  0.837337  0.307010  ...  0.203133  0.210126  0.463543\n",
              "9625  0.759214  0.618920  0.427998  ...  0.267512  0.300622  0.482137\n",
              "9626  0.437287  0.634157  0.357558  ...  0.277307  0.324236  0.550945\n",
              "9627  0.285616  0.737963  0.205763  ...  0.196404  0.202413  0.569439\n",
              "9628  0.750011  0.678097  0.401320  ...  0.208084  0.276318  0.494784\n",
              "\n",
              "[9629 rows x 15 columns]"
            ]
          },
          "metadata": {},
          "execution_count": 218
        }
      ]
    },
    {
      "cell_type": "code",
      "metadata": {
        "id": "NQFXiLvcgGHx"
      },
      "source": [
        "X_train, X_test, y_train, y_test = train_test_split(X, y, test_size=0.20)"
      ],
      "execution_count": null,
      "outputs": []
    },
    {
      "cell_type": "code",
      "metadata": {
        "colab": {
          "base_uri": "https://localhost:8080/"
        },
        "id": "cKBvR9EzjDd1",
        "outputId": "0513434d-0aae-43e6-bce6-ee8b3543fd78"
      },
      "source": [
        "def learn(n_estimators=100):\n",
        "  model = RandomForestClassifier(n_estimators, random_state=1, max_depth=2)\n",
        "  # model = DecisionTreeClassifier(max_depth=4, random_state=1)\n",
        "  # model = GaussianNB()\n",
        "  # model = KNeighborsClassifier(n_neighbors=51)\n",
        "  # model = RandomForestClassifier(max_depth=4, random_state=1)\n",
        "  # model = SVC(gamma='auto')\n",
        "  # model = BaggingClassifier()\n",
        "  model.fit(X_train, y_train)\n",
        "  prediction = model.predict(X_test)\n",
        "  return accuracy_score(prediction, y_test)\n",
        "learn()"
      ],
      "execution_count": null,
      "outputs": [
        {
          "output_type": "execute_result",
          "data": {
            "text/plain": [
              "0.5799584631360333"
            ]
          },
          "metadata": {},
          "execution_count": 220
        }
      ]
    },
    {
      "cell_type": "code",
      "metadata": {
        "colab": {
          "base_uri": "https://localhost:8080/"
        },
        "id": "YsgOZeO2jlhx",
        "outputId": "f04e715c-a754-4db3-c2a6-d89cbc1a26e1"
      },
      "source": [
        "def fine_tune():\n",
        "  n_estimators = np.arange(2, 101, 1)\n",
        "  max, opt = 0, 0\n",
        "  for x in n_estimators:\n",
        "    ans = learn(x)\n",
        "    if max < ans:\n",
        "      opt = x\n",
        "      max = ans\n",
        "  return opt, max\n",
        "fine_tune()"
      ],
      "execution_count": null,
      "outputs": [
        {
          "output_type": "execute_result",
          "data": {
            "text/plain": [
              "(4, 0.5815160955347871)"
            ]
          },
          "metadata": {},
          "execution_count": 221
        }
      ]
    }
  ]
}